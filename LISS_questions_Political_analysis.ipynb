{
 "cells": [
  {
   "cell_type": "code",
   "execution_count": null,
   "id": "48a42b27",
   "metadata": {},
   "outputs": [],
   "source": [
    "import pandas as pd\n",
    "import numpy as np\n",
    "import time\n",
    "import pickle\n",
    "from tqdm.auto import tqdm\n",
    "import random\n",
    "import re\n",
    "import gensim\n",
    "from gensim.models import Word2Vec\n",
    "from numpy.linalg import norm"
   ]
  },
  {
   "cell_type": "code",
   "execution_count": null,
   "id": "c84cb25b",
   "metadata": {},
   "outputs": [],
   "source": [
    "# LISS questions\n",
    "\n",
    "liss = pd.read_csv('./data/liss_questions.csv', sep = ';')"
   ]
  },
  {
   "cell_type": "code",
   "execution_count": null,
   "id": "6c79d649",
   "metadata": {},
   "outputs": [],
   "source": [
    "# TOKENIZATION - lowercase the tokens and remove punctuations\n",
    "\n",
    "import spacy\n",
    "from sklearn.feature_extraction.text import CountVectorizer\n",
    "\n",
    "liss_questions = liss.question_liss\n",
    "\n",
    "start_time = time.time()\n",
    "\n",
    "nlp = spacy.load(\"en_core_web_sm\")\n",
    "\n",
    "processed_speeches = [text for text in tqdm(nlp.pipe(liss_questions, disable = [\"ner\", \"parser\", \"lemmatizer\"]),\n",
    "                                            total = len(liss_questions))]\n",
    "tokenized_speeches = [[word.text.lower() for word in text if not word.is_punct] for text in processed_speeches]\n",
    "\n",
    "# to remove tokens such as '\\n'\n",
    "import re\n",
    "tokenized_speeches = [[re.sub(r'\\W+', '', word) for word in text] for text in tokenized_speeches]"
   ]
  },
  {
   "cell_type": "code",
   "execution_count": null,
   "id": "8cbb391c",
   "metadata": {},
   "outputs": [],
   "source": [
    "liss['liss_tokenized'] = tokenized_speeches"
   ]
  },
  {
   "cell_type": "markdown",
   "id": "e074a677",
   "metadata": {},
   "source": [
    "## Function LISS Similarity - Political Analysis"
   ]
  },
  {
   "cell_type": "code",
   "execution_count": null,
   "id": "a7afb635",
   "metadata": {},
   "outputs": [],
   "source": [
    "def liss_similarity_political(decade, party, liss, model, tokenized_speeches_filt):\n",
    "\n",
    "    df_tokenized_filt = pd.DataFrame({'speech_id': range(0, len(tokenized_speeches_filt))})\n",
    "    df_tokenized_filt['tokenized_speeches_filt'] = tokenized_speeches_filt\n",
    "    \n",
    "    liss_similarity_list = []\n",
    "\n",
    "    for question_id in tqdm(liss.question_id, total = len(liss)):\n",
    "\n",
    "        question = liss[liss['question_id'] == question_id].liss_tokenized.iloc[0]\n",
    "\n",
    "        words_liss = [word for word in question if word in model.wv]\n",
    "        mean_embedding_liss = np.mean([model.wv[word] for word in words_liss], axis = 0)\n",
    "\n",
    "        for speech_id in tqdm(df_tokenized_filt.speech_id, total = len(df_tokenized_filt)): \n",
    "\n",
    "            speech = df_tokenized_filt[df_tokenized_filt['speech_id'] == speech_id].tokenized_speeches_filt.iloc[0]\n",
    "\n",
    "            words_filtered = [word for word in speech if word in model.wv]\n",
    "            mean_embedding_filtered = np.mean([model.wv[word] for word in words_filtered], axis = 0) \n",
    "\n",
    "            similarity = np.linalg.norm(np.subtract(mean_embedding_liss, mean_embedding_filtered))\n",
    "            cosine = np.dot(mean_embedding_liss, mean_embedding_filtered)/(norm(mean_embedding_liss)*norm(mean_embedding_filtered))\n",
    "\n",
    "            result = {'party':      party,\n",
    "                      'id_question':question_id,\n",
    "                      'id_speech':  speech_id,\n",
    "                      'similarity': similarity,\n",
    "                      'cosine':     cosine}\n",
    "            liss_similarity_list.append(result)\n",
    "\n",
    "    df_liss = pd.DataFrame(liss_similarity_list)\n",
    "    \n",
    "    print(f'{party} and {decade}, is done!')\n",
    "    return(df_liss)"
   ]
  },
  {
   "cell_type": "markdown",
   "id": "0b7f5aed",
   "metadata": {},
   "source": [
    "### Run LISS Similarity - Political Analysis function"
   ]
  },
  {
   "cell_type": "code",
   "execution_count": null,
   "id": "e425874b",
   "metadata": {},
   "outputs": [],
   "source": [
    "decades = ['80_90', '90_00', '00_10', '10_21']\n",
    "parties = ['Conservative', 'Labour']\n",
    "\n",
    "for decade in decades:\n",
    "    for party in parties:\n",
    "    \n",
    "        model = Word2Vec.load(f\"./models/political/word2vec_{party}_{decade}.model\") # load model\n",
    "\n",
    "        filename = f'../data/output/political/tokenized_speeches_filt_{party}_{decade}.csv'\n",
    "\n",
    "        with open(filename, \"rb\") as fp:   # Unpickling\n",
    "            tokenized_speeches_filt = pickle.load(fp) # Load tokenized speeches \n",
    "\n",
    "        liss_similarity_political(decade, party, liss, model, tokenized_speeches_filt)"
   ]
  }
 ],
 "metadata": {
  "kernelspec": {
   "display_name": "Python 3",
   "language": "python",
   "name": "python3"
  },
  "language_info": {
   "codemirror_mode": {
    "name": "ipython",
    "version": 3
   },
   "file_extension": ".py",
   "mimetype": "text/x-python",
   "name": "python",
   "nbconvert_exporter": "python",
   "pygments_lexer": "ipython3",
   "version": "3.8.8"
  }
 },
 "nbformat": 4,
 "nbformat_minor": 5
}
